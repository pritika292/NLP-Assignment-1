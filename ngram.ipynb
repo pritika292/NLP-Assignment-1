{
 "cells": [
  {
   "cell_type": "code",
   "execution_count": 1,
   "metadata": {},
   "outputs": [],
   "source": [
    "from nltk.corpus import stopwords\n",
    "from nltk.tokenize import sent_tokenize, word_tokenize\n",
    "from nltk.stem import WordNetLemmatizer\n",
    "import re\n",
    "import os\n",
    "import numpy as np"
   ]
  },
  {
   "cell_type": "code",
   "execution_count": 2,
   "metadata": {},
   "outputs": [],
   "source": [
    "lemmatizer = WordNetLemmatizer()\n",
    "stop_words = set(stopwords.words('english'))"
   ]
  },
  {
   "cell_type": "code",
   "execution_count": 3,
   "metadata": {},
   "outputs": [],
   "source": [
    "# Read and pre-process training dataset\n",
    "\n",
    "def standardize_punctuations(text):\n",
    "    replacement_rules = {'“': '\"', '”': '\"', '’': \"'\", '--': ','}\n",
    "    for symbol, replacement in replacement_rules.items():\n",
    "        text = text.replace(symbol, replacement)\n",
    "    return text\n",
    "\n",
    "def remove_stop_words(tokenized_sentence):\n",
    "    filtered_sentence = []\n",
    "    for word in tokenized_sentence:\n",
    "        if word not in stop_words:\n",
    "            filtered_sentence.append(word)\n",
    "    return filtered_sentence\n",
    "\n",
    "def get_data(input_path) :\n",
    "     with open(input_path) as read_handle:\n",
    "        text = read_handle.read()\n",
    "        text = text.lower()\n",
    "        text = standardize_punctuations(text)\n",
    "        tokenized_sentences = sent_tokenize(text)\n",
    "        return tokenized_sentences\n",
    "     \n",
    "def get_data_split(input_path) :\n",
    "    tokenized_sentences = get_data(input_path)\n",
    "    total_lines = len(tokenized_sentences)\n",
    "    train_set = int(0.85 * total_lines)\n",
    "    return tokenized_sentences[:train_set], tokenized_sentences[train_set:]\n",
    "     \n",
    "def tokenize_text(sentence_data, tokenized_path):\n",
    "    with open(tokenized_path, 'w') as write_handle:\n",
    "        for sentence in sentence_data:\n",
    "            sentence = re.sub(r'[?!:.;,#@-`()]', '', sentence)\n",
    "            tokenized_sentence = word_tokenize(sentence)\n",
    "            tokenized_sentence = remove_stop_words(tokenized_sentence)\n",
    "            lemmatized_words = [lemmatizer.lemmatize(word) for word in tokenized_sentence]\n",
    "            if lemmatized_words:\n",
    "                lemmatized_words = lemmatized_words +['[END]']\n",
    "                write_handle.write(','.join(lemmatized_words))\n",
    "                write_handle.write('\\n')\n",
    "\n",
    "def tokenize_text_unk(sentence_data, tokenized_path, vocab):\n",
    "    with open(tokenized_path, 'w') as write_handle:\n",
    "        for sentence in sentence_data:\n",
    "            sentence = re.sub(r'[?!:.;,#@-`()]', '', sentence)\n",
    "            tokenized_sentence = word_tokenize(sentence)\n",
    "            tokenized_sentence = remove_stop_words(tokenized_sentence)\n",
    "            lemmatized_words = [lemmatizer.lemmatize(word) for word in tokenized_sentence]\n",
    "            tokenized_words = [\"<UNK>\" if word not in vocab else word for word in lemmatized_words]\n",
    "            \n",
    "            if tokenized_words:\n",
    "                tokenized_words = tokenized_words + ['[END]']\n",
    "                write_handle.write(','.join(tokenized_words))\n",
    "                write_handle.write('\\n')\n",
    "\n",
    "def tokenize_with_threshold(sentence_data, tokenized_path, frequencies, threshold):\n",
    "    with open(tokenized_path, 'w') as write_handle:\n",
    "        for sentence in sentence_data:\n",
    "            sentence = re.sub(r'[?!:.;,#@-`()]', '', sentence)\n",
    "            tokenized_sentence = word_tokenize(sentence)\n",
    "            tokenized_sentence = remove_stop_words(tokenized_sentence)\n",
    "            lemmatized_words = [lemmatizer.lemmatize(word) for word in tokenized_sentence]\n",
    "            tokenized_words = [word if frequencies[word] >= threshold else \"<UNK>\" for word in lemmatized_words]\n",
    "            if tokenized_words:\n",
    "                tokenized_words = tokenized_words + ['[END]']\n",
    "                write_handle.write(','.join(tokenized_words))\n",
    "                write_handle.write('\\n')\n",
    "    vocab = set(word for word, freq in frequencies.items() if freq >= threshold)\n",
    "    vocab.add(\"<UNK>\")\n",
    "    return vocab"
   ]
  }
 ],
 "metadata": {
  "kernelspec": {
   "display_name": "Python 3",
   "language": "python",
   "name": "python3"
  },
  "language_info": {
   "codemirror_mode": {
    "name": "ipython",
    "version": 3
   },
   "file_extension": ".py",
   "mimetype": "text/x-python",
   "name": "python",
   "nbconvert_exporter": "python",
   "pygments_lexer": "ipython3",
   "version": "3.10.8 (v3.10.8:aaaf517424, Oct 11 2022, 10:14:40) [Clang 13.0.0 (clang-1300.0.29.30)]"
  },
  "orig_nbformat": 4,
  "vscode": {
   "interpreter": {
    "hash": "aee8b7b246df8f9039afb4144a1f6fd8d2ca17a180786b69acc140d282b71a49"
   }
  }
 },
 "nbformat": 4,
 "nbformat_minor": 2
}
